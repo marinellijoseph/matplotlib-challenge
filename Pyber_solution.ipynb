{
 "cells": [
  {
   "cell_type": "markdown",
   "metadata": {},
   "source": [
    "## Analysis"
   ]
  },
  {
   "cell_type": "code",
   "execution_count": 2,
   "metadata": {
    "collapsed": true
   },
   "outputs": [],
   "source": [
    "# Observed Trend 1: \n",
    "# Observed Trend 2: \n",
    "# Observed Trend 3: "
   ]
  },
  {
   "cell_type": "code",
   "execution_count": 3,
   "metadata": {
    "collapsed": true
   },
   "outputs": [],
   "source": [
    "# Dependencies\n",
    "import matplotlib.pyplot as plt\n",
    "import numpy as np\n",
    "import pandas as pd\n",
    "import seaborn as sns"
   ]
  },
  {
   "cell_type": "code",
   "execution_count": 4,
   "metadata": {},
   "outputs": [
    {
     "data": {
      "text/html": [
       "<div>\n",
       "<style>\n",
       "    .dataframe thead tr:only-child th {\n",
       "        text-align: right;\n",
       "    }\n",
       "\n",
       "    .dataframe thead th {\n",
       "        text-align: left;\n",
       "    }\n",
       "\n",
       "    .dataframe tbody tr th {\n",
       "        vertical-align: top;\n",
       "    }\n",
       "</style>\n",
       "<table border=\"1\" class=\"dataframe\">\n",
       "  <thead>\n",
       "    <tr style=\"text-align: right;\">\n",
       "      <th></th>\n",
       "      <th>city</th>\n",
       "      <th>driver_count</th>\n",
       "      <th>type</th>\n",
       "      <th>date</th>\n",
       "      <th>fare</th>\n",
       "      <th>ride_id</th>\n",
       "    </tr>\n",
       "  </thead>\n",
       "  <tbody>\n",
       "    <tr>\n",
       "      <th>0</th>\n",
       "      <td>Kelseyland</td>\n",
       "      <td>63</td>\n",
       "      <td>Urban</td>\n",
       "      <td>2016-08-19 04:27:52</td>\n",
       "      <td>5.51</td>\n",
       "      <td>6246006544795</td>\n",
       "    </tr>\n",
       "    <tr>\n",
       "      <th>1</th>\n",
       "      <td>Kelseyland</td>\n",
       "      <td>63</td>\n",
       "      <td>Urban</td>\n",
       "      <td>2016-04-17 06:59:50</td>\n",
       "      <td>5.54</td>\n",
       "      <td>7466473222333</td>\n",
       "    </tr>\n",
       "    <tr>\n",
       "      <th>2</th>\n",
       "      <td>Kelseyland</td>\n",
       "      <td>63</td>\n",
       "      <td>Urban</td>\n",
       "      <td>2016-05-04 15:06:07</td>\n",
       "      <td>30.54</td>\n",
       "      <td>2140501382736</td>\n",
       "    </tr>\n",
       "    <tr>\n",
       "      <th>3</th>\n",
       "      <td>Kelseyland</td>\n",
       "      <td>63</td>\n",
       "      <td>Urban</td>\n",
       "      <td>2016-01-25 20:44:56</td>\n",
       "      <td>12.08</td>\n",
       "      <td>1896987891309</td>\n",
       "    </tr>\n",
       "    <tr>\n",
       "      <th>4</th>\n",
       "      <td>Kelseyland</td>\n",
       "      <td>63</td>\n",
       "      <td>Urban</td>\n",
       "      <td>2016-08-09 18:19:47</td>\n",
       "      <td>17.91</td>\n",
       "      <td>8784212854829</td>\n",
       "    </tr>\n",
       "  </tbody>\n",
       "</table>\n",
       "</div>"
      ],
      "text/plain": [
       "         city  driver_count   type                 date   fare        ride_id\n",
       "0  Kelseyland            63  Urban  2016-08-19 04:27:52   5.51  6246006544795\n",
       "1  Kelseyland            63  Urban  2016-04-17 06:59:50   5.54  7466473222333\n",
       "2  Kelseyland            63  Urban  2016-05-04 15:06:07  30.54  2140501382736\n",
       "3  Kelseyland            63  Urban  2016-01-25 20:44:56  12.08  1896987891309\n",
       "4  Kelseyland            63  Urban  2016-08-09 18:19:47  17.91  8784212854829"
      ]
     },
     "execution_count": 4,
     "metadata": {},
     "output_type": "execute_result"
    }
   ],
   "source": [
    "# Load in csvs\n",
    "city_data = pd.read_csv(\"raw_data/city_data.csv\")\n",
    "ride_data = pd.read_csv(\"raw_data/ride_data.csv\")\n",
    "city_data.head()\n",
    "# Merge data\n",
    "city_ride_merged = pd.merge(city_data, ride_data,\n",
    "                                 how='outer', on='city')\n",
    "city_ride_merged.head()"
   ]
  },
  {
   "cell_type": "markdown",
   "metadata": {},
   "source": [
    "## Bubble Plot of Ride Sharing Data"
   ]
  },
  {
   "cell_type": "code",
   "execution_count": 5,
   "metadata": {
    "collapsed": true
   },
   "outputs": [],
   "source": [
    "# Bubble Plot\n",
    "# Group by city DF\n",
    "grouped_city = city_ride_merged.groupby('city')"
   ]
  },
  {
   "cell_type": "code",
   "execution_count": 6,
   "metadata": {},
   "outputs": [
    {
     "data": {
      "text/plain": [
       "city\n",
       "Alvarezhaven    23.928710\n",
       "Alyssaberg      20.609615\n",
       "Anitamouth      37.315556\n",
       "Antoniomouth    23.625000\n",
       "Aprilchester    21.981579\n",
       "Name: fare, dtype: float64"
      ]
     },
     "execution_count": 6,
     "metadata": {},
     "output_type": "execute_result"
    }
   ],
   "source": [
    "# Average Fare ($) Per City\n",
    "grouped_city_mean = city_ride_merged.groupby('city').mean()\n",
    "average_fare = grouped_city_mean['fare']\n",
    "average_fare.head()"
   ]
  },
  {
   "cell_type": "code",
   "execution_count": 7,
   "metadata": {},
   "outputs": [
    {
     "data": {
      "text/plain": [
       "city\n",
       "Alvarezhaven    31\n",
       "Alyssaberg      26\n",
       "Anitamouth       9\n",
       "Antoniomouth    22\n",
       "Aprilchester    19\n",
       "Name: fare, dtype: int64"
      ]
     },
     "execution_count": 7,
     "metadata": {},
     "output_type": "execute_result"
    }
   ],
   "source": [
    "# Total Number of Rides Per City\n",
    "grouped_city_count = city_ride_merged.groupby('city').count()\n",
    "total_rides = grouped_city_count['fare']\n",
    "total_rides.head()"
   ]
  },
  {
   "cell_type": "code",
   "execution_count": 8,
   "metadata": {},
   "outputs": [
    {
     "data": {
      "text/plain": [
       "city\n",
       "Alvarezhaven    21\n",
       "Alyssaberg      67\n",
       "Anitamouth      16\n",
       "Antoniomouth    21\n",
       "Aprilchester    49\n",
       "Name: driver_count, dtype: int64"
      ]
     },
     "execution_count": 8,
     "metadata": {},
     "output_type": "execute_result"
    }
   ],
   "source": [
    "# Total Number of Drivers Per City\n",
    "grouped_city_max = city_ride_merged.groupby('city').max()\n",
    "driver_count = grouped_city_max['driver_count']\n",
    "driver_count.head()"
   ]
  },
  {
   "cell_type": "code",
   "execution_count": 9,
   "metadata": {},
   "outputs": [
    {
     "data": {
      "text/plain": [
       "city\n",
       "Alvarezhaven       Urban\n",
       "Alyssaberg         Urban\n",
       "Anitamouth      Suburban\n",
       "Antoniomouth       Urban\n",
       "Aprilchester       Urban\n",
       "Name: type, dtype: object"
      ]
     },
     "execution_count": 9,
     "metadata": {},
     "output_type": "execute_result"
    }
   ],
   "source": [
    "# City Type(Urban, Suburban, Rural)\n",
    "city_type = grouped_city_max['type']\n",
    "city_type.head()"
   ]
  },
  {
   "cell_type": "code",
   "execution_count": 10,
   "metadata": {},
   "outputs": [
    {
     "data": {
      "text/html": [
       "<div>\n",
       "<style>\n",
       "    .dataframe thead tr:only-child th {\n",
       "        text-align: right;\n",
       "    }\n",
       "\n",
       "    .dataframe thead th {\n",
       "        text-align: left;\n",
       "    }\n",
       "\n",
       "    .dataframe tbody tr th {\n",
       "        vertical-align: top;\n",
       "    }\n",
       "</style>\n",
       "<table border=\"1\" class=\"dataframe\">\n",
       "  <thead>\n",
       "    <tr style=\"text-align: right;\">\n",
       "      <th></th>\n",
       "      <th>Average Fare</th>\n",
       "      <th>City Types</th>\n",
       "      <th>Total Number of Drivers</th>\n",
       "      <th>Total Number of Rides</th>\n",
       "    </tr>\n",
       "    <tr>\n",
       "      <th>city</th>\n",
       "      <th></th>\n",
       "      <th></th>\n",
       "      <th></th>\n",
       "      <th></th>\n",
       "    </tr>\n",
       "  </thead>\n",
       "  <tbody>\n",
       "    <tr>\n",
       "      <th>Alvarezhaven</th>\n",
       "      <td>23.928710</td>\n",
       "      <td>Urban</td>\n",
       "      <td>21</td>\n",
       "      <td>31</td>\n",
       "    </tr>\n",
       "    <tr>\n",
       "      <th>Alyssaberg</th>\n",
       "      <td>20.609615</td>\n",
       "      <td>Urban</td>\n",
       "      <td>67</td>\n",
       "      <td>26</td>\n",
       "    </tr>\n",
       "    <tr>\n",
       "      <th>Anitamouth</th>\n",
       "      <td>37.315556</td>\n",
       "      <td>Suburban</td>\n",
       "      <td>16</td>\n",
       "      <td>9</td>\n",
       "    </tr>\n",
       "    <tr>\n",
       "      <th>Antoniomouth</th>\n",
       "      <td>23.625000</td>\n",
       "      <td>Urban</td>\n",
       "      <td>21</td>\n",
       "      <td>22</td>\n",
       "    </tr>\n",
       "    <tr>\n",
       "      <th>Aprilchester</th>\n",
       "      <td>21.981579</td>\n",
       "      <td>Urban</td>\n",
       "      <td>49</td>\n",
       "      <td>19</td>\n",
       "    </tr>\n",
       "  </tbody>\n",
       "</table>\n",
       "</div>"
      ],
      "text/plain": [
       "              Average Fare City Types  Total Number of Drivers  \\\n",
       "city                                                             \n",
       "Alvarezhaven     23.928710      Urban                       21   \n",
       "Alyssaberg       20.609615      Urban                       67   \n",
       "Anitamouth       37.315556   Suburban                       16   \n",
       "Antoniomouth     23.625000      Urban                       21   \n",
       "Aprilchester     21.981579      Urban                       49   \n",
       "\n",
       "              Total Number of Rides  \n",
       "city                                 \n",
       "Alvarezhaven                     31  \n",
       "Alyssaberg                       26  \n",
       "Anitamouth                        9  \n",
       "Antoniomouth                     22  \n",
       "Aprilchester                     19  "
      ]
     },
     "execution_count": 10,
     "metadata": {},
     "output_type": "execute_result"
    }
   ],
   "source": [
    "# new df for bubbleplot\n",
    "bubbleplot_df = pd.DataFrame({\"Total Number of Rides\": total_rides,\n",
    "                              \"Total Number of Drivers\": driver_count,\n",
    "                              \"City Types\": city_type,\n",
    "                              \"Average Fare\": average_fare})\n",
    "bubbleplot_df.head()"
   ]
  },
  {
   "cell_type": "code",
   "execution_count": 20,
   "metadata": {},
   "outputs": [
    {
     "data": {
      "image/png": "[encoded data removed]",
      "text/plain": [
       "<matplotlib.figure.Figure at 0x1a0f29da90>"
      ]
     },
     "metadata": {},
     "output_type": "display_data"
    }
   ],
   "source": [
    "# create bubble plot with seaborn\n",
    "# Set style of scatterplot\n",
    "sns.set_context(\"notebook\", font_scale=1.1)\n",
    "sns.set_style(\"ticks\")\n",
    "\n",
    "# Create scatterplot of dataframe\n",
    "sns.lmplot('Total Number of Rides', # Horizontal axis\n",
    "           'Average Fare', # Vertical axis\n",
    "           data = bubbleplot_df, # Data source\n",
    "           fit_reg = False, # Don't fix a regression line\n",
    "           hue = \"City Types\", # Set color\n",
    "           scatter_kws = {\"marker\": \"D\", # Set marker style\n",
    "                        \"s\": 100}) # S marker size\n",
    "# SET GRIDLINES...\n",
    "plt.style.use('seaborn-whitegrid')\n",
    "\n",
    "# Set title\n",
    "plt.title('Pyber Ride Sharing Data (2016)')\n",
    "\n",
    "# Set x-axis label\n",
    "plt.xlabel('Total Number of Rides (Per City)')\n",
    "\n",
    "# The y limits of our scatter plot is 0 to 1\n",
    "plt.ylim(0, 45)\n",
    "\n",
    "# The x limits of our scatter plot is 0 to 100\n",
    "plt.xlim(0,40)\n",
    "\n",
    "# Set y-axis label\n",
    "plt.ylabel('Average Fares ($)')\n",
    "plt.show()"
   ]
  },
  {
   "cell_type": "markdown",
   "metadata": {},
   "source": [
    "## Total Fares by City Type"
   ]
  },
  {
   "cell_type": "code",
   "execution_count": 12,
   "metadata": {
    "collapsed": true
   },
   "outputs": [],
   "source": [
    "# group data by city type\n",
    "grouped_citytype = city_ride_merged.groupby('type')\n"
   ]
  },
  {
   "cell_type": "code",
   "execution_count": 13,
   "metadata": {},
   "outputs": [
    {
     "data": {
      "text/plain": [
       "type\n",
       "Rural        4255.09\n",
       "Suburban    20335.69\n",
       "Urban       40078.34\n",
       "Name: fare, dtype: float64"
      ]
     },
     "execution_count": 13,
     "metadata": {},
     "output_type": "execute_result"
    }
   ],
   "source": [
    "# get sum of fares by city type\n",
    "total_fares_group = grouped_citytype['fare'].sum()\n",
    "total_fares_group\n"
   ]
  },
  {
   "cell_type": "code",
   "execution_count": 14,
   "metadata": {},
   "outputs": [
    {
     "data": {
      "image/png": "[encoded data removed]",
      "text/plain": [
       "<matplotlib.figure.Figure at 0x107b4f8d0>"
      ]
     },
     "metadata": {},
     "output_type": "display_data"
    }
   ],
   "source": [
    "# Create a pie chart based off of the group series from before\n",
    "total_fares_chart = total_fares_group.plot(kind='pie', figsize=(9,9))\n",
    "\n",
    "# Set the xlabel and ylabel using class methods\n",
    "total_fares_chart.set_xlabel(\"Percentage of Total Fares by City Type\")\n",
    "total_fares_chart.set_ylabel(\"\")\n",
    "\n",
    "plt.show()"
   ]
  },
  {
   "cell_type": "markdown",
   "metadata": {},
   "source": [
    "## Total Rides by City Type"
   ]
  },
  {
   "cell_type": "code",
   "execution_count": 15,
   "metadata": {},
   "outputs": [
    {
     "data": {
      "text/plain": [
       "type\n",
       "Rural        125\n",
       "Suburban     657\n",
       "Urban       1625\n",
       "Name: fare, dtype: int64"
      ]
     },
     "execution_count": 15,
     "metadata": {},
     "output_type": "execute_result"
    }
   ],
   "source": [
    "# get sum of fares by city type\n",
    "total_rides_group = grouped_citytype['fare'].count()\n",
    "total_rides_group"
   ]
  },
  {
   "cell_type": "code",
   "execution_count": 16,
   "metadata": {},
   "outputs": [
    {
     "data": {
      "image/png": "[encoded data removed]",
      "text/plain": [
       "<matplotlib.figure.Figure at 0x1a0f03b5f8>"
      ]
     },
     "metadata": {},
     "output_type": "display_data"
    }
   ],
   "source": [
    "# Create a pie chart based off of the group series from before\n",
    "total_rides_chart = total_rides_group.plot(kind='pie', figsize=(9,9))\n",
    "\n",
    "# Set the xlabel and ylabel using class methods\n",
    "total_fares_chart.set_xlabel(\"Percentage of Total Rides by City Type\")\n",
    "total_fares_chart.set_ylabel(\"\")\n",
    "\n",
    "plt.show()"
   ]
  },
  {
   "cell_type": "markdown",
   "metadata": {},
   "source": [
    "## Total Drivers by City Type"
   ]
  },
  {
   "cell_type": "code",
   "execution_count": 17,
   "metadata": {},
   "outputs": [
    {
     "data": {
      "text/plain": [
       "City Types\n",
       "Rural        104\n",
       "Suburban     635\n",
       "Urban       2607\n",
       "Name: Total Number of Drivers, dtype: int64"
      ]
     },
     "execution_count": 17,
     "metadata": {},
     "output_type": "execute_result"
    }
   ],
   "source": [
    "# get sum of fares by city type\n",
    "new_grouped_city = bubbleplot_df.groupby('City Types')\n",
    "total_drivers_group = new_grouped_city['Total Number of Drivers'].sum()\n",
    "total_drivers_group"
   ]
  },
  {
   "cell_type": "code",
   "execution_count": 18,
   "metadata": {},
   "outputs": [
    {
     "data": {
      "image/png": "[encoded data removed]",
      "text/plain": [
       "<matplotlib.figure.Figure at 0x1a0f2430b8>"
      ]
     },
     "metadata": {},
     "output_type": "display_data"
    }
   ],
   "source": [
    "# Create a pie chart based off of the group series from before\n",
    "total_drivers_chart = total_drivers_group.plot(kind='pie', figsize=(9,9))\n",
    "\n",
    "# Set the xlabel and ylabel using class methods\n",
    "total_drivers_chart.set_xlabel(\"Percentage of Total Fares by City Type\")\n",
    "total_drivers_chart.set_ylabel(\"\")\n",
    "\n",
    "plt.show()"
   ]
  },
  {
   "cell_type": "code",
   "execution_count": null,
   "metadata": {
    "collapsed": true
   },
   "outputs": [],
   "source": []
  },
  {
   "cell_type": "code",
   "execution_count": null,
   "metadata": {
    "collapsed": true
   },
   "outputs": [],
   "source": []
  },
  {
   "cell_type": "code",
   "execution_count": null,
   "metadata": {
    "collapsed": true
   },
   "outputs": [],
   "source": []
  }
 ],
 "metadata": {
  "kernelspec": {
   "display_name": "Python [conda env:PythonData]",
   "language": "python",
   "name": "conda-env-PythonData-py"
  },
  "language_info": {
   "codemirror_mode": {
    "name": "ipython",
    "version": 3
   },
   "file_extension": ".py",
   "mimetype": "text/x-python",
   "name": "python",
   "nbconvert_exporter": "python",
   "pygments_lexer": "ipython3",
   "version": "3.6.3"
  }
 },
 "nbformat": 4,
 "nbformat_minor": 2
}
